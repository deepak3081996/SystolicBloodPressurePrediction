{
 "cells": [
  {
   "cell_type": "code",
   "execution_count": 1,
   "metadata": {
    "collapsed": true
   },
   "outputs": [],
   "source": [
    "# -*- coding: utf-8 -*-\n",
    "\n",
    "#Importing the libraries\n",
    "import numpy as np\n",
    "import matplotlib.pyplot as plt"
   ]
  },
  {
   "cell_type": "code",
   "execution_count": 84,
   "metadata": {
    "collapsed": true
   },
   "outputs": [],
   "source": [
    "# Importing the dataset\n",
    "with open('SystolicBloodPressurePrediction.txt','r') as fptr:\n",
    "    \n",
    "    line = fptr.readline()\n",
    "    l1 = []\n",
    "    noOfColumns = 0\n",
    "    noOfRows = 0\n",
    "    \n",
    "    while line:    \n",
    "        if line[0] == '#':\n",
    "            line = fptr.readline()\n",
    "            continue\n",
    "            \n",
    "        if line[0] != '#' and (noOfColumns==0 or noOfRows==0):\n",
    "            datalist = line[:-1].split(' ')\n",
    "\n",
    "            if datalist[1] == 'columns':\n",
    "                noOfColumns = int(datalist[0])\n",
    "                col = 0\n",
    "            \n",
    "            elif datalist[1] == 'rows':\n",
    "                noOfRows = int(datalist[0])\n",
    "                row = 0\n",
    "\n",
    "        elif line[0] != '#' and noOfColumns>0 and noOfRows>0:\n",
    "            datalist = line[:-1].strip().split()\n",
    "\n",
    "            if col<noOfColumns:\n",
    "                l1.append(' '.join(datalist))\n",
    "                col += 1\n",
    "\n",
    "            elif row<noOfRows:\n",
    "                l1 += datalist\n",
    "                row += 1       \n",
    "\n",
    "        line = fptr.readline()\n",
    "\n",
    "dataset = np.array([l1]).reshape((noOfRows+1,noOfColumns))\n",
    "X = dataset[1:,[1,2]].astype('float64')\n",
    "y = dataset[1:,3].astype('float64')\n"
   ]
  },
  {
   "cell_type": "code",
   "execution_count": 85,
   "metadata": {
    "collapsed": true
   },
   "outputs": [],
   "source": [
    "# Splitting the dataset into training and testing set\n",
    "from sklearn.model_selection import train_test_split\n",
    "X_train, X_test, y_train, y_test = train_test_split(X, y, test_size= 0.25, random_state=15)"
   ]
  },
  {
   "cell_type": "code",
   "execution_count": 86,
   "metadata": {},
   "outputs": [
    {
     "data": {
      "text/plain": [
       "LinearRegression(copy_X=True, fit_intercept=True, n_jobs=1, normalize=False)"
      ]
     },
     "execution_count": 86,
     "metadata": {},
     "output_type": "execute_result"
    }
   ],
   "source": [
    "# fitting Simple Linear Regression to the training set\n",
    "from sklearn.linear_model import LinearRegression\n",
    "linearRegressor = LinearRegression()\n",
    "linearRegressor.fit(X_train, y_train)"
   ]
  },
  {
   "cell_type": "code",
   "execution_count": 87,
   "metadata": {
    "collapsed": true
   },
   "outputs": [],
   "source": [
    "# predicting the test set results \n",
    "y_pred = linearRegressor.predict(X_test)"
   ]
  },
  {
   "cell_type": "code",
   "execution_count": 88,
   "metadata": {},
   "outputs": [
    {
     "data": {
      "text/plain": [
       "array([ 135.54557089,  134.58413087,  130.41789079,  133.62269085,\n",
       "        127.21309073,  127.53357074,  136.1865309 ,  135.54557089])"
      ]
     },
     "execution_count": 88,
     "metadata": {},
     "output_type": "execute_result"
    }
   ],
   "source": [
    "y_pred"
   ]
  },
  {
   "cell_type": "code",
   "execution_count": 89,
   "metadata": {},
   "outputs": [
    {
     "data": {
      "text/plain": [
       "array([ 135.,  128.,  130.,  120.,  124.,  116.,  220.,  138.])"
      ]
     },
     "execution_count": 89,
     "metadata": {},
     "output_type": "execute_result"
    }
   ],
   "source": [
    "y_test"
   ]
  },
  {
   "cell_type": "code",
   "execution_count": 90,
   "metadata": {},
   "outputs": [
    {
     "data": {
      "image/png": "[encoded data removed]",
      "text/plain": [
       "<matplotlib.figure.Figure at 0x2cdde785748>"
      ]
     },
     "metadata": {},
     "output_type": "display_data"
    }
   ],
   "source": [
    "# Visualising the training set results\n",
    "plt.scatter(X_train[:,1], y_train, color='red')\n",
    "plt.plot(X_train[:,1], linearRegressor.predict(X_train), color='blue')\n",
    "plt.title('Age vs Systolic Blood Pressure (training set)')\n",
    "plt.xlabel('Age')\n",
    "plt.ylabel('Systolic Blood Pressure')\n",
    "plt.show()"
   ]
  },
  {
   "cell_type": "code",
   "execution_count": 91,
   "metadata": {},
   "outputs": [
    {
     "data": {
      "image/png": "[encoded data removed]",
      "text/plain": [
       "<matplotlib.figure.Figure at 0x2cdde680320>"
      ]
     },
     "metadata": {},
     "output_type": "display_data"
    }
   ],
   "source": [
    "# Visualising the Test set results\n",
    "plt.scatter(X_test[:,1], y_test, color='red')\n",
    "plt.plot(X_train[:,1], linearRegressor.predict(X_train), color='blue')\n",
    "plt.title('Age vs Systolic Blood Pressure (test set)')\n",
    "plt.xlabel('Age')\n",
    "plt.ylabel('Systolic Blood Pressure')\n",
    "plt.show()"
   ]
  },
  {
   "cell_type": "code",
   "execution_count": null,
   "metadata": {
    "collapsed": true
   },
   "outputs": [],
   "source": []
  }
 ],
 "metadata": {
  "kernelspec": {
   "display_name": "Python 3",
   "language": "python",
   "name": "python3"
  },
  "language_info": {
   "codemirror_mode": {
    "name": "ipython",
    "version": 3
   },
   "file_extension": ".py",
   "mimetype": "text/x-python",
   "name": "python",
   "nbconvert_exporter": "python",
   "pygments_lexer": "ipython3",
   "version": "3.5.3"
  }
 },
 "nbformat": 4,
 "nbformat_minor": 2
}
